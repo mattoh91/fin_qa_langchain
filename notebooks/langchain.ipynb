{
 "cells": [
  {
   "cell_type": "code",
   "execution_count": 1,
   "metadata": {},
   "outputs": [],
   "source": [
    "from io import BytesIO\n",
    "\n",
    "from dotenv import load_dotenv\n",
    "from langchain.chains import ConversationalRetrievalChain\n",
    "from langchain.document_loaders import PyPDFLoader \n",
    "from langchain.embeddings import OpenAIEmbeddings\n",
    "from langchain.chat_models import ChatOpenAI\n",
    "from langchain.memory import ConversationBufferMemory\n",
    "from langchain.text_splitter import RecursiveCharacterTextSplitter\n",
    "from langchain.vectorstores import FAISS\n",
    "import streamlit as st"
   ]
  },
  {
   "cell_type": "code",
   "execution_count": 2,
   "metadata": {},
   "outputs": [],
   "source": [
    "def get_pdf_text(pdf_docs: list[BytesIO]) -> str:\n",
    "    \"\"\"Extracts string from streamlit UploadedFile\n",
    "\n",
    "    Args:\n",
    "        pdf_docs (list[BytesIO]): List containing multiple streamlit UploadedFiles\n",
    "\n",
    "    Returns:\n",
    "        str: Text data\n",
    "    \"\"\"\n",
    "\n",
    "    text_data = \"\"\n",
    "\n",
    "    for pdf in pdf_docs:\n",
    "        loader = PyPDFLoader(pdf)\n",
    "        pages = loader.load_and_split()\n",
    "        for page in pages:\n",
    "            text_data += (page.page_content)\n",
    "\n",
    "    return text_data\n",
    "\n",
    "def get_text_chunks(text_data: str) -> list[str]:\n",
    "    \"\"\"Split raw text into chunks\n",
    "\n",
    "    Args:\n",
    "        text_data (str): Raw text data\n",
    "\n",
    "    Returns:\n",
    "        list[str]: List containing chunks of raw text input\n",
    "    \"\"\"\n",
    "\n",
    "    splitter = RecursiveCharacterTextSplitter(\n",
    "        chunk_size=1000,\n",
    "        chunk_overlap=200,\n",
    "        length_function=len,\n",
    "    )\n",
    "\n",
    "    chunks = splitter.split_text(text_data)\n",
    "\n",
    "    return chunks\n",
    "\n",
    "def get_vectorstore(chunks: list[str]) -> FAISS:\n",
    "    \"\"\"Instantiate Faiss vectorstore\n",
    "\n",
    "    Args:\n",
    "        chunks (list[str]): Text chunks\n",
    "\n",
    "    Returns:\n",
    "        FAISS: Vectorstore object\n",
    "    \"\"\"\n",
    "\n",
    "    # Uses text-embedding-ada-002 embedding model by default\n",
    "    # ada-002 uses cl100k_base tokeniser and takes max 8191 input tokens\n",
    "    embeddings = OpenAIEmbeddings()\n",
    "    vectorstore = FAISS.from_texts(texts=chunks, embedding=embeddings)\n",
    "\n",
    "    return vectorstore\n",
    "\n",
    "def get_conversation_chain(vectorstore: FAISS) -> ConversationalRetrievalChain:\n",
    "    \"\"\"Create conversation chain\n",
    "\n",
    "    Args:\n",
    "        vectorstore (FAISS): FAISS vectorstore object\n",
    "\n",
    "    Returns:\n",
    "        ConversationalRetrievalChain: A conversation retrieval chain object\n",
    "    \"\"\"\n",
    "\n",
    "    llm = ChatOpenAI()\n",
    "    memory = ConversationBufferMemory(memory_key=\"chat_history\", return_messages=True)\n",
    "    conversation_chain = ConversationalRetrievalChain.from_llm(\n",
    "        llm=llm,\n",
    "        retriever=vectorstore.as_retriever(),\n",
    "        memory=memory\n",
    "    )\n",
    "    return conversation_chain\n",
    "\n",
    "def handle_userinput(user_question):\n",
    "    result = st.session_state.conversation({\"question\": user_question})\n",
    "    st.write(result)"
   ]
  },
  {
   "cell_type": "code",
   "execution_count": 3,
   "metadata": {},
   "outputs": [],
   "source": [
    "text_data = \"\"\n",
    "loader = PyPDFLoader(\"../data/crwd_annualreport_fy22.pdf\")\n",
    "pages = loader.load_and_split()\n",
    "for page in pages:\n",
    "    text_data += (page.page_content)"
   ]
  },
  {
   "cell_type": "code",
   "execution_count": 4,
   "metadata": {},
   "outputs": [],
   "source": [
    "load_dotenv()\n",
    "\n",
    "# Get pdf text data\n",
    "# raw_text = get_pdf_text(\"../data/crwd_annualreport_fy22.pdf\")\n",
    "\n",
    "# Convert text data into chunks\n",
    "chunks = get_text_chunks(text_data)\n",
    "\n",
    "# Create vector store\n",
    "vectorstore = get_vectorstore(chunks)\n",
    "\n",
    "# Create conversation chain and save it as a stateful variable\n",
    "conversation = get_conversation_chain(vectorstore)"
   ]
  },
  {
   "cell_type": "code",
   "execution_count": 5,
   "metadata": {},
   "outputs": [],
   "source": [
    "result = conversation({\"question\": \"who is crowdstrike's CEO?\"})"
   ]
  },
  {
   "cell_type": "code",
   "execution_count": 6,
   "metadata": {},
   "outputs": [
    {
     "data": {
      "text/plain": [
       "{'question': \"who is crowdstrike's CEO?\",\n",
       " 'chat_history': [HumanMessage(content=\"who is crowdstrike's CEO?\", additional_kwargs={}, example=False),\n",
       "  AIMessage(content=\"CrowdStrike's CEO is George Kurtz.\", additional_kwargs={}, example=False)],\n",
       " 'answer': \"CrowdStrike's CEO is George Kurtz.\"}"
      ]
     },
     "execution_count": 6,
     "metadata": {},
     "output_type": "execute_result"
    }
   ],
   "source": [
    "result"
   ]
  },
  {
   "cell_type": "code",
   "execution_count": 11,
   "metadata": {},
   "outputs": [
    {
     "data": {
      "text/plain": [
       "HumanMessage(content=\"who is crowdstrike's CEO?\", additional_kwargs={}, example=False)"
      ]
     },
     "execution_count": 11,
     "metadata": {},
     "output_type": "execute_result"
    }
   ],
   "source": [
    "result[\"chat_history\"][0]"
   ]
  },
  {
   "cell_type": "code",
   "execution_count": null,
   "metadata": {},
   "outputs": [],
   "source": [
    "result."
   ]
  }
 ],
 "metadata": {
  "kernelspec": {
   "display_name": "langchain",
   "language": "python",
   "name": "python3"
  },
  "language_info": {
   "codemirror_mode": {
    "name": "ipython",
    "version": 3
   },
   "file_extension": ".py",
   "mimetype": "text/x-python",
   "name": "python",
   "nbconvert_exporter": "python",
   "pygments_lexer": "ipython3",
   "version": "3.11.3"
  },
  "orig_nbformat": 4
 },
 "nbformat": 4,
 "nbformat_minor": 2
}
