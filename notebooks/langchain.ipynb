{
 "cells": [
  {
   "cell_type": "code",
   "execution_count": 14,
   "metadata": {},
   "outputs": [],
   "source": [
    "from io import BytesIO\n",
    "import sys\n",
    "\n",
    "from dotenv import load_dotenv\n",
    "from langchain.chains import ConversationalRetrievalChain\n",
    "from langchain.document_loaders import PyPDFLoader \n",
    "from langchain.embeddings import OpenAIEmbeddings\n",
    "from langchain.chat_models import ChatOpenAI\n",
    "from langchain.memory import ConversationBufferMemory\n",
    "from langchain.text_splitter import RecursiveCharacterTextSplitter\n",
    "from langchain.vectorstores import FAISS\n",
    "import streamlit as st\n",
    "\n",
    "from langchain.chains.llm import LLMChain\n",
    "from langchain.chains.question_answering import load_qa_chain\n",
    "\n",
    "sys.path.append(\"../src\")\n",
    "from prompts import CONDENSE_QUESTION_PROMPT, QA_PROMPT"
   ]
  },
  {
   "cell_type": "code",
   "execution_count": 15,
   "metadata": {},
   "outputs": [],
   "source": [
    "def get_pdf_text(pdf_docs: list[BytesIO]) -> str:\n",
    "    \"\"\"Extracts string from streamlit UploadedFile\n",
    "\n",
    "    Args:\n",
    "        pdf_docs (list[BytesIO]): List containing multiple streamlit UploadedFiles\n",
    "\n",
    "    Returns:\n",
    "        str: Text data\n",
    "    \"\"\"\n",
    "\n",
    "    text_data = \"\"\n",
    "\n",
    "    for pdf in pdf_docs:\n",
    "        loader = PyPDFLoader(pdf)\n",
    "        pages = loader.load_and_split()\n",
    "        for page in pages:\n",
    "            text_data += (page.page_content)\n",
    "\n",
    "    return text_data\n",
    "\n",
    "def get_text_chunks(text_data: str) -> list[str]:\n",
    "    \"\"\"Split raw text into chunks\n",
    "\n",
    "    Args:\n",
    "        text_data (str): Raw text data\n",
    "\n",
    "    Returns:\n",
    "        list[str]: List containing chunks of raw text input\n",
    "    \"\"\"\n",
    "\n",
    "    splitter = RecursiveCharacterTextSplitter(\n",
    "        chunk_size=1000,\n",
    "        chunk_overlap=200,\n",
    "        length_function=len,\n",
    "    )\n",
    "\n",
    "    chunks = splitter.split_text(text_data)\n",
    "\n",
    "    return chunks\n",
    "\n",
    "def get_vectorstore(chunks: list[str]) -> FAISS:\n",
    "    \"\"\"Instantiate Faiss vectorstore\n",
    "\n",
    "    Args:\n",
    "        chunks (list[str]): Text chunks\n",
    "\n",
    "    Returns:\n",
    "        FAISS: Vectorstore object\n",
    "    \"\"\"\n",
    "\n",
    "    # Uses text-embedding-ada-002 embedding model by default\n",
    "    # ada-002 uses cl100k_base tokeniser and takes max 8191 input tokens\n",
    "    embeddings = OpenAIEmbeddings()\n",
    "    vectorstore = FAISS.from_texts(texts=chunks, embedding=embeddings)\n",
    "\n",
    "    return vectorstore\n",
    "\n",
    "def get_conversation_chain(vectorstore: FAISS) -> ConversationalRetrievalChain:\n",
    "    \"\"\"Create conversation chain\n",
    "\n",
    "    Args:\n",
    "        vectorstore (FAISS): FAISS vectorstore object\n",
    "\n",
    "    Returns:\n",
    "        ConversationalRetrievalChain: A conversation retrieval chain object\n",
    "    \"\"\"\n",
    "\n",
    "    llm = ChatOpenAI()\n",
    "    memory = ConversationBufferMemory(memory_key=\"chat_history\", output_key=\"answer\", return_messages=True)\n",
    "    # question_generator = LLMChain(llm=llm, prompt=CONDENSE_QUESTION_PROMPT)\n",
    "    # doc_chain = load_qa_chain(llm, chain_type=\"stuff\", prompt=QA_PROMPT)\n",
    "\n",
    "    # Can consider changing 'chain_type' to ['map_reduce', 'refine', 'map_rerank']\n",
    "    conversation_chain = ConversationalRetrievalChain.from_llm(\n",
    "        llm=llm,\n",
    "        retriever=vectorstore.as_retriever(),\n",
    "        memory=memory,\n",
    "        return_source_documents=True,\n",
    "        condense_question_prompt=CONDENSE_QUESTION_PROMPT,\n",
    "        combine_docs_chain_kwargs={\"prompt\": QA_PROMPT}\n",
    "    )\n",
    "    return conversation_chain"
   ]
  },
  {
   "cell_type": "code",
   "execution_count": 16,
   "metadata": {},
   "outputs": [],
   "source": [
    "text_data = \"\"\n",
    "loader = PyPDFLoader(\"../data/crwd_annualreport_fy22.pdf\")\n",
    "pages = loader.load_and_split()\n",
    "for page in pages:\n",
    "    text_data += (page.page_content)"
   ]
  },
  {
   "cell_type": "code",
   "execution_count": 17,
   "metadata": {},
   "outputs": [],
   "source": [
    "load_dotenv()\n",
    "\n",
    "# Get pdf text data\n",
    "# raw_text = get_pdf_text(\"../data/crwd_annualreport_fy22.pdf\")\n",
    "\n",
    "# Convert text data into chunks\n",
    "chunks = get_text_chunks(text_data)\n",
    "\n",
    "# Create vector store\n",
    "vectorstore = get_vectorstore(chunks)\n",
    "\n",
    "# Create conversation chain and save it as a stateful variable\n",
    "conversation = get_conversation_chain(vectorstore)"
   ]
  },
  {
   "cell_type": "code",
   "execution_count": 18,
   "metadata": {},
   "outputs": [],
   "source": [
    "result = conversation({\"question\": \"what is crowdstrike's net profit for 2022?\", \"chat_history\": []})"
   ]
  },
  {
   "cell_type": "code",
   "execution_count": 19,
   "metadata": {},
   "outputs": [
    {
     "data": {
      "text/plain": [
       "{'question': \"what is crowdstrike's net profit for 2022?\",\n",
       " 'chat_history': [HumanMessage(content=\"what is crowdstrike's net profit for 2022?\", additional_kwargs={}, example=False),\n",
       "  AIMessage(content=\"Based on the provided information, CrowdStrike's net loss for 2022 is $232,378. Therefore, they did not have a net profit in 2022.\", additional_kwargs={}, example=False)],\n",
       " 'answer': \"Based on the provided information, CrowdStrike's net loss for 2022 is $232,378. Therefore, they did not have a net profit in 2022.\",\n",
       " 'source_documents': [Document(page_content='Pacific, including Japan, and expanding current data centers overseas.\\n•Extending Our Falcon Platform and Ecosystem. We designed our architecture to be open, interoperable, and highly\\nextensible. We launched the CrowdStrike Store, the first open cloud-based application PaaS for cybersecurity, which\\nallows customers to purchase CrowdStrike products and provides an ecosystem of trusted partners and applications for\\nour customers to choose from. We plan to continue investing in the CrowdStrike Store to empower our partners by\\nmaking it easier to build applications and to enable our customers to more easily discover, try, and purchase additional\\ncloud modules from both trusted partners and us.\\n1127/06/2023, 21:47 crwd-20230131\\nhttps://www .sec.gov/Ar chives/edgar/data/1535527/000153552723000008/crwd-20230131.htm 15/161Table of Contents\\nWe have experienced significant growth, with revenue increasing from $1.5 billion in fiscal 2022 to $2.2\\xa0billion in fiscal 2023,', metadata={}),\n",
       "  Document(page_content='Provision for income taxes 22,402\\xa0 72,355\\xa0 4,760\\xa0\\nNet loss (182,285) (232,378) (92,629)\\nNet income attributable to non-controlling interest 960\\xa0 2,424\\xa0 —\\xa0\\nNet loss attributable to CrowdStrike $ (183,245)$ (234,802)$ (92,629)\\nNet loss per share attributable to CrowdStrike common stockholders, basic and\\ndiluted $ (0.79)$ (1.03)$ (0.43)\\nWeighted-average shares used in computing net loss per share attributable to\\nCrowdStrike common stockholders, basic and diluted 233,139\\xa0 227,142\\xa0 217,756\\xa0\\nThe accompanying notes are an integral part of these consolidated financial statements.\\n7727/06/2023, 21:47 crwd-20230131\\nhttps://www .sec.gov/Ar chives/edgar/data/1535527/000153552723000008/crwd-20230131.htm 110/161Table of Contents\\nCrowdStrike Holdings,\\xa0Inc.\\nConsolidated Statements of Comprehensive Loss\\n(in thousands)\\nYear Ended January 31,\\n2023 2022 2021\\nNet loss $ (182,285)$ (232,378)$ (92,629)\\nOther comprehensive income (loss):\\nForeign currency translation adjustments 221\\xa0 (3,559) 2,630', metadata={}),\n",
       "  Document(page_content='Year Ended January 31,\\n\\xa0 2023 2022 2021\\nSubscription cost of revenue $ 32,091\\xa0$ 22,044\\xa0$ 11,705\\xa0\\nProfessional services cost of revenue 15,692\\xa0 10,050\\xa0 6,005\\xa0\\nSales and marketing 151,919\\xa0 89,634\\xa0 50,557\\xa0\\nResearch and development 174,711\\xa0 102,027\\xa0 40,274\\xa0\\nGeneral and administrative 152,091\\xa0 86,197\\xa0 41,134\\xa0\\nTotal stock-based compensation expense $ 526,504\\xa0$ 309,952\\xa0$ 149,67527/06/2023, 21:47 crwd-20230131\\nhttps://www .sec.gov/Ar chives/edgar/data/1535527/000153552723000008/crwd-20230131.htm 142/16110227/06/2023, 21:47 crwd-20230131\\nhttps://www .sec.gov/Ar chives/edgar/data/1535527/000153552723000008/crwd-20230131.htm 143/161Table of Contents\\nCrowdStrike Holdings,\\xa0Inc.\\nNotes to Consolidated Financial Statements\\n8. Revenue, Deferred Revenue and Remaining Performance Obligations\\nThe following table summarizes the revenue from contracts by type of customer (in thousands, except percentages):\\nYear Ended January 31,\\n2023 2022 2021\\nAmount %\\xa0Revenue Amount %\\xa0Revenue Amount %\\xa0Revenue', metadata={}),\n",
       "  Document(page_content='Total revenue 100\\xa0% 100\\xa0% 100\\xa0%\\nCost of revenue\\nSubscription 23\\xa0% 22\\xa0% 21\\xa0%\\nProfessional services 4\\xa0% 4\\xa0% 5\\xa0%\\nTotal cost of revenue 27\\xa0% 26\\xa0% 26\\xa0%\\nGross profit 73\\xa0% 74\\xa0% 74\\xa0%\\nOperating expenses\\nSales and marketing 40\\xa0% 42\\xa0% 46\\xa0%\\nResearch and development 27\\xa0% 26\\xa0% 25\\xa0%\\nGeneral and administrative 14\\xa0% 15\\xa0% 14\\xa0%\\nTotal operating expenses 82\\xa0% 83\\xa0% 84\\xa0%\\nLoss from operations (8)% (10)% (11)%\\nInterest expense (1)% (2)% —\\xa0%\\nInterest income 2\\xa0% —\\xa0% 1\\xa0%\\nOther income, net —\\xa0% —\\xa0% —\\xa0%\\nLoss before provision for income taxes (7)% (11)% (10)%\\nProvision for income taxes 1\\xa0% 5\\xa0% 1\\xa0%\\nNet loss (8)% (16)% (11)%\\nNet income attributable to non-controlling interest —\\xa0% —\\xa0% —\\xa0%\\nNet loss attributable to CrowdStrike (8)% (16)% (11)%\\nComparison of Fiscal 2023 and Fiscal 2022\\nRevenue\\nThe following shows total revenue from subscriptions and professional services for fiscal 2023, as compared to fiscal 2022 (in\\nthousands, except percentages):\\nChange\\n2023 2022 $ %\\nSubscription $2,111,660\\xa0$1,359,537\\xa0$ 752,123\\xa0 55\\xa0%', metadata={})]}"
      ]
     },
     "execution_count": 19,
     "metadata": {},
     "output_type": "execute_result"
    }
   ],
   "source": [
    "result"
   ]
  },
  {
   "cell_type": "code",
   "execution_count": 20,
   "metadata": {},
   "outputs": [
    {
     "data": {
      "text/plain": [
       "langchain.schema.Document"
      ]
     },
     "execution_count": 20,
     "metadata": {},
     "output_type": "execute_result"
    }
   ],
   "source": [
    "type(result[\"source_documents\"][0])"
   ]
  },
  {
   "cell_type": "code",
   "execution_count": 34,
   "metadata": {},
   "outputs": [],
   "source": [
    "sample = result[\"source_documents\"]"
   ]
  },
  {
   "cell_type": "code",
   "execution_count": 35,
   "metadata": {},
   "outputs": [
    {
     "data": {
      "text/plain": [
       "[Document(page_content='Pacific, including Japan, and expanding current data centers overseas.\\n•Extending Our Falcon Platform and Ecosystem. We designed our architecture to be open, interoperable, and highly\\nextensible. We launched the CrowdStrike Store, the first open cloud-based application PaaS for cybersecurity, which\\nallows customers to purchase CrowdStrike products and provides an ecosystem of trusted partners and applications for\\nour customers to choose from. We plan to continue investing in the CrowdStrike Store to empower our partners by\\nmaking it easier to build applications and to enable our customers to more easily discover, try, and purchase additional\\ncloud modules from both trusted partners and us.\\n1127/06/2023, 21:47 crwd-20230131\\nhttps://www .sec.gov/Ar chives/edgar/data/1535527/000153552723000008/crwd-20230131.htm 15/161Table of Contents\\nWe have experienced significant growth, with revenue increasing from $1.5 billion in fiscal 2022 to $2.2\\xa0billion in fiscal 2023,', metadata={}),\n",
       " Document(page_content='Provision for income taxes 22,402\\xa0 72,355\\xa0 4,760\\xa0\\nNet loss (182,285) (232,378) (92,629)\\nNet income attributable to non-controlling interest 960\\xa0 2,424\\xa0 —\\xa0\\nNet loss attributable to CrowdStrike $ (183,245)$ (234,802)$ (92,629)\\nNet loss per share attributable to CrowdStrike common stockholders, basic and\\ndiluted $ (0.79)$ (1.03)$ (0.43)\\nWeighted-average shares used in computing net loss per share attributable to\\nCrowdStrike common stockholders, basic and diluted 233,139\\xa0 227,142\\xa0 217,756\\xa0\\nThe accompanying notes are an integral part of these consolidated financial statements.\\n7727/06/2023, 21:47 crwd-20230131\\nhttps://www .sec.gov/Ar chives/edgar/data/1535527/000153552723000008/crwd-20230131.htm 110/161Table of Contents\\nCrowdStrike Holdings,\\xa0Inc.\\nConsolidated Statements of Comprehensive Loss\\n(in thousands)\\nYear Ended January 31,\\n2023 2022 2021\\nNet loss $ (182,285)$ (232,378)$ (92,629)\\nOther comprehensive income (loss):\\nForeign currency translation adjustments 221\\xa0 (3,559) 2,630', metadata={}),\n",
       " Document(page_content='Year Ended January 31,\\n\\xa0 2023 2022 2021\\nSubscription cost of revenue $ 32,091\\xa0$ 22,044\\xa0$ 11,705\\xa0\\nProfessional services cost of revenue 15,692\\xa0 10,050\\xa0 6,005\\xa0\\nSales and marketing 151,919\\xa0 89,634\\xa0 50,557\\xa0\\nResearch and development 174,711\\xa0 102,027\\xa0 40,274\\xa0\\nGeneral and administrative 152,091\\xa0 86,197\\xa0 41,134\\xa0\\nTotal stock-based compensation expense $ 526,504\\xa0$ 309,952\\xa0$ 149,67527/06/2023, 21:47 crwd-20230131\\nhttps://www .sec.gov/Ar chives/edgar/data/1535527/000153552723000008/crwd-20230131.htm 142/16110227/06/2023, 21:47 crwd-20230131\\nhttps://www .sec.gov/Ar chives/edgar/data/1535527/000153552723000008/crwd-20230131.htm 143/161Table of Contents\\nCrowdStrike Holdings,\\xa0Inc.\\nNotes to Consolidated Financial Statements\\n8. Revenue, Deferred Revenue and Remaining Performance Obligations\\nThe following table summarizes the revenue from contracts by type of customer (in thousands, except percentages):\\nYear Ended January 31,\\n2023 2022 2021\\nAmount %\\xa0Revenue Amount %\\xa0Revenue Amount %\\xa0Revenue', metadata={}),\n",
       " Document(page_content='Total revenue 100\\xa0% 100\\xa0% 100\\xa0%\\nCost of revenue\\nSubscription 23\\xa0% 22\\xa0% 21\\xa0%\\nProfessional services 4\\xa0% 4\\xa0% 5\\xa0%\\nTotal cost of revenue 27\\xa0% 26\\xa0% 26\\xa0%\\nGross profit 73\\xa0% 74\\xa0% 74\\xa0%\\nOperating expenses\\nSales and marketing 40\\xa0% 42\\xa0% 46\\xa0%\\nResearch and development 27\\xa0% 26\\xa0% 25\\xa0%\\nGeneral and administrative 14\\xa0% 15\\xa0% 14\\xa0%\\nTotal operating expenses 82\\xa0% 83\\xa0% 84\\xa0%\\nLoss from operations (8)% (10)% (11)%\\nInterest expense (1)% (2)% —\\xa0%\\nInterest income 2\\xa0% —\\xa0% 1\\xa0%\\nOther income, net —\\xa0% —\\xa0% —\\xa0%\\nLoss before provision for income taxes (7)% (11)% (10)%\\nProvision for income taxes 1\\xa0% 5\\xa0% 1\\xa0%\\nNet loss (8)% (16)% (11)%\\nNet income attributable to non-controlling interest —\\xa0% —\\xa0% —\\xa0%\\nNet loss attributable to CrowdStrike (8)% (16)% (11)%\\nComparison of Fiscal 2023 and Fiscal 2022\\nRevenue\\nThe following shows total revenue from subscriptions and professional services for fiscal 2023, as compared to fiscal 2022 (in\\nthousands, except percentages):\\nChange\\n2023 2022 $ %\\nSubscription $2,111,660\\xa0$1,359,537\\xa0$ 752,123\\xa0 55\\xa0%', metadata={})]"
      ]
     },
     "execution_count": 35,
     "metadata": {},
     "output_type": "execute_result"
    }
   ],
   "source": [
    "sample"
   ]
  },
  {
   "cell_type": "code",
   "execution_count": 36,
   "metadata": {},
   "outputs": [
    {
     "data": {
      "text/plain": [
       "'Pacific, including Japan, and expanding current data centers overseas.\\n•Extending Our Falcon Platform and Ecosystem. We designed our architecture to be open, interoperable, and highly\\nextensible. We launched the CrowdStrike Store, the first open cloud-based application PaaS for cybersecurity, which\\nallows customers to purchase CrowdStrike products and provides an ecosystem of trusted partners and applications for\\nour customers to choose from. We plan to continue investing in the CrowdStrike Store to empower our partners by\\nmaking it easier to build applications and to enable our customers to more easily discover, try, and purchase additional\\ncloud modules from both trusted partners and us.\\n1127/06/2023, 21:47 crwd-20230131\\nhttps://www .sec.gov/Ar chives/edgar/data/1535527/000153552723000008/crwd-20230131.htm 15/161Table of Contents\\nWe have experienced significant growth, with revenue increasing from $1.5 billion in fiscal 2022 to $2.2\\xa0billion in fiscal 2023,'"
      ]
     },
     "execution_count": 36,
     "metadata": {},
     "output_type": "execute_result"
    }
   ],
   "source": [
    "sample[0].page_content"
   ]
  },
  {
   "cell_type": "code",
   "execution_count": 37,
   "metadata": {},
   "outputs": [
    {
     "data": {
      "text/plain": [
       "'{\"page_content\": \"Pacific, including Japan, and expanding current data centers overseas.\\\\n\\\\u2022Extending Our Falcon Platform and Ecosystem. We designed our architecture to be open, interoperable, and highly\\\\nextensible. We launched the CrowdStrike Store, the first open cloud-based application PaaS for cybersecurity, which\\\\nallows customers to purchase CrowdStrike products and provides an ecosystem of trusted partners and applications for\\\\nour customers to choose from. We plan to continue investing in the CrowdStrike Store to empower our partners by\\\\nmaking it easier to build applications and to enable our customers to more easily discover, try, and purchase additional\\\\ncloud modules from both trusted partners and us.\\\\n1127/06/2023, 21:47 crwd-20230131\\\\nhttps://www .sec.gov/Ar chives/edgar/data/1535527/000153552723000008/crwd-20230131.htm 15/161Table of Contents\\\\nWe have experienced significant growth, with revenue increasing from $1.5 billion in fiscal 2022 to $2.2\\\\u00a0billion in fiscal 2023,\", \"metadata\": {}}'"
      ]
     },
     "execution_count": 37,
     "metadata": {},
     "output_type": "execute_result"
    }
   ],
   "source": [
    "sample[0].json()"
   ]
  },
  {
   "cell_type": "code",
   "execution_count": 39,
   "metadata": {},
   "outputs": [
    {
     "data": {
      "text/plain": [
       "['Source 0: Pacific, including Japan, and expanding current data centers overseas.\\n•Extending Our Falcon Platform and Ecosystem. We designed our architecture to be open, interoperable, and highly\\nextensible. We launched the CrowdStrike Store, the first open cloud-based application PaaS for cybersecurity, which\\nallows customers to purchase CrowdStrike products and provides an ecosystem of trusted partners and applications for\\nour customers to choose from. We plan to continue investing in the CrowdStrike Store to empower our partners by\\nmaking it easier to build applications and to enable our customers to more easily discover, try, and purchase additional\\ncloud modules from both trusted partners and us.\\n1127/06/2023, 21:47 crwd-20230131\\nhttps://www .sec.gov/Ar chives/edgar/data/1535527/000153552723000008/crwd-20230131.htm 15/161Table of Contents\\nWe have experienced significant growth, with revenue increasing from $1.5 billion in fiscal 2022 to $2.2\\xa0billion in fiscal 2023,',\n",
       " 'Source 1: Provision for income taxes 22,402\\xa0 72,355\\xa0 4,760\\xa0\\nNet loss (182,285) (232,378) (92,629)\\nNet income attributable to non-controlling interest 960\\xa0 2,424\\xa0 —\\xa0\\nNet loss attributable to CrowdStrike $ (183,245)$ (234,802)$ (92,629)\\nNet loss per share attributable to CrowdStrike common stockholders, basic and\\ndiluted $ (0.79)$ (1.03)$ (0.43)\\nWeighted-average shares used in computing net loss per share attributable to\\nCrowdStrike common stockholders, basic and diluted 233,139\\xa0 227,142\\xa0 217,756\\xa0\\nThe accompanying notes are an integral part of these consolidated financial statements.\\n7727/06/2023, 21:47 crwd-20230131\\nhttps://www .sec.gov/Ar chives/edgar/data/1535527/000153552723000008/crwd-20230131.htm 110/161Table of Contents\\nCrowdStrike Holdings,\\xa0Inc.\\nConsolidated Statements of Comprehensive Loss\\n(in thousands)\\nYear Ended January 31,\\n2023 2022 2021\\nNet loss $ (182,285)$ (232,378)$ (92,629)\\nOther comprehensive income (loss):\\nForeign currency translation adjustments 221\\xa0 (3,559) 2,630',\n",
       " 'Source 2: Year Ended January 31,\\n\\xa0 2023 2022 2021\\nSubscription cost of revenue $ 32,091\\xa0$ 22,044\\xa0$ 11,705\\xa0\\nProfessional services cost of revenue 15,692\\xa0 10,050\\xa0 6,005\\xa0\\nSales and marketing 151,919\\xa0 89,634\\xa0 50,557\\xa0\\nResearch and development 174,711\\xa0 102,027\\xa0 40,274\\xa0\\nGeneral and administrative 152,091\\xa0 86,197\\xa0 41,134\\xa0\\nTotal stock-based compensation expense $ 526,504\\xa0$ 309,952\\xa0$ 149,67527/06/2023, 21:47 crwd-20230131\\nhttps://www .sec.gov/Ar chives/edgar/data/1535527/000153552723000008/crwd-20230131.htm 142/16110227/06/2023, 21:47 crwd-20230131\\nhttps://www .sec.gov/Ar chives/edgar/data/1535527/000153552723000008/crwd-20230131.htm 143/161Table of Contents\\nCrowdStrike Holdings,\\xa0Inc.\\nNotes to Consolidated Financial Statements\\n8. Revenue, Deferred Revenue and Remaining Performance Obligations\\nThe following table summarizes the revenue from contracts by type of customer (in thousands, except percentages):\\nYear Ended January 31,\\n2023 2022 2021\\nAmount %\\xa0Revenue Amount %\\xa0Revenue Amount %\\xa0Revenue',\n",
       " 'Source 3: Total revenue 100\\xa0% 100\\xa0% 100\\xa0%\\nCost of revenue\\nSubscription 23\\xa0% 22\\xa0% 21\\xa0%\\nProfessional services 4\\xa0% 4\\xa0% 5\\xa0%\\nTotal cost of revenue 27\\xa0% 26\\xa0% 26\\xa0%\\nGross profit 73\\xa0% 74\\xa0% 74\\xa0%\\nOperating expenses\\nSales and marketing 40\\xa0% 42\\xa0% 46\\xa0%\\nResearch and development 27\\xa0% 26\\xa0% 25\\xa0%\\nGeneral and administrative 14\\xa0% 15\\xa0% 14\\xa0%\\nTotal operating expenses 82\\xa0% 83\\xa0% 84\\xa0%\\nLoss from operations (8)% (10)% (11)%\\nInterest expense (1)% (2)% —\\xa0%\\nInterest income 2\\xa0% —\\xa0% 1\\xa0%\\nOther income, net —\\xa0% —\\xa0% —\\xa0%\\nLoss before provision for income taxes (7)% (11)% (10)%\\nProvision for income taxes 1\\xa0% 5\\xa0% 1\\xa0%\\nNet loss (8)% (16)% (11)%\\nNet income attributable to non-controlling interest —\\xa0% —\\xa0% —\\xa0%\\nNet loss attributable to CrowdStrike (8)% (16)% (11)%\\nComparison of Fiscal 2023 and Fiscal 2022\\nRevenue\\nThe following shows total revenue from subscriptions and professional services for fiscal 2023, as compared to fiscal 2022 (in\\nthousands, except percentages):\\nChange\\n2023 2022 $ %\\nSubscription $2,111,660\\xa0$1,359,537\\xa0$ 752,123\\xa0 55\\xa0%']"
      ]
     },
     "execution_count": 39,
     "metadata": {},
     "output_type": "execute_result"
    }
   ],
   "source": [
    "[f\"Source {i}: {doc.page_content}\" for i, doc in enumerate(sample)]"
   ]
  },
  {
   "cell_type": "code",
   "execution_count": 23,
   "metadata": {},
   "outputs": [],
   "source": [
    "sample2 = result[\"chat_history\"][0]"
   ]
  },
  {
   "cell_type": "code",
   "execution_count": 24,
   "metadata": {},
   "outputs": [
    {
     "data": {
      "text/plain": [
       "'{\"content\": \"what is crowdstrike\\'s net profit for 2022?\", \"additional_kwargs\": {}, \"example\": false}'"
      ]
     },
     "execution_count": 24,
     "metadata": {},
     "output_type": "execute_result"
    }
   ],
   "source": [
    "sample2.json()"
   ]
  },
  {
   "cell_type": "code",
   "execution_count": 16,
   "metadata": {},
   "outputs": [
    {
     "data": {
      "text/plain": [
       "[HumanMessage(content='what is the net income?', additional_kwargs={}, example=False),\n",
       " AIMessage(content='The net income for the year ended January 31, 2023, is a loss of $182,285.', additional_kwargs={}, example=False)]"
      ]
     },
     "execution_count": 16,
     "metadata": {},
     "output_type": "execute_result"
    }
   ],
   "source": [
    "result[\"chat_history\"]"
   ]
  },
  {
   "cell_type": "code",
   "execution_count": null,
   "metadata": {},
   "outputs": [],
   "source": []
  },
  {
   "cell_type": "code",
   "execution_count": null,
   "metadata": {},
   "outputs": [],
   "source": []
  }
 ],
 "metadata": {
  "kernelspec": {
   "display_name": "langchain",
   "language": "python",
   "name": "python3"
  },
  "language_info": {
   "codemirror_mode": {
    "name": "ipython",
    "version": 3
   },
   "file_extension": ".py",
   "mimetype": "text/x-python",
   "name": "python",
   "nbconvert_exporter": "python",
   "pygments_lexer": "ipython3",
   "version": "3.11.3"
  },
  "orig_nbformat": 4
 },
 "nbformat": 4,
 "nbformat_minor": 2
}
