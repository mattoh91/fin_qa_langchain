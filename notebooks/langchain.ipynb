{
 "cells": [
  {
   "cell_type": "code",
   "execution_count": null,
   "metadata": {},
   "outputs": [],
   "source": [
    "# Import environment variable loader\n",
    "from dotenv import load_dotenv\n",
    "# Import os to set API key\n",
    "import os\n",
    "# Bring in streamlit for UI/app interface\n",
    "import streamlit as st\n",
    "# Import OpenAI as main LLM service\n",
    "from langchain.llms import OpenAI, HuggingFaceHub\n",
    "from langchain.embeddings import OpenAIEmbeddings, HuggingFaceInstructEmbeddings\n",
    "\n",
    "# Import PDF document loaders\n",
    "from langchain.document_loaders import PyPDFLoader\n",
    "# Import the vector store \n",
    "from langchain.vectorstores import FAISS\n",
    "\n",
    "# Import vector store stuff\n",
    "from langchain.agents.agent_toolkits import (\n",
    "    create_vectorstore_agent,\n",
    "    VectorStoreToolkit,\n",
    "    VectorStoreInfo\n",
    ")"
   ]
  },
  {
   "cell_type": "code",
   "execution_count": null,
   "metadata": {},
   "outputs": [],
   "source": [
    "# Set APIkey for OpenAI Service\n",
    "# Can sub this out for other LLM providers\n",
    "os.environ['OPENAI_API_KEY'] = 'youropenaiapikeyhere'\n",
    "\n",
    "# Create instance of OpenAI LLM\n",
    "llm = OpenAI(temperature=0.1, verbose=True)\n",
    "embeddings = OpenAIEmbeddings()"
   ]
  },
  {
   "cell_type": "code",
   "execution_count": null,
   "metadata": {},
   "outputs": [],
   "source": [
    "# Create and load PDF Loader\n",
    "loader = PyPDFLoader('annualreport.pdf')\n",
    "# Split pages from pdf \n",
    "pages = loader.load_and_split()\n",
    "# Load documents into vector database aka ChromaDB\n",
    "store = Chroma.from_documents(pages, embeddings, collection_name='annualreport')\n",
    "\n",
    "# Create vectorstore info object - metadata repo?\n",
    "vectorstore_info = VectorStoreInfo(\n",
    "    name=\"annual_report\",\n",
    "    description=\"a banking annual report as a pdf\",\n",
    "    vectorstore=store\n",
    ")\n",
    "# Convert the document store into a langchain toolkit\n",
    "toolkit = VectorStoreToolkit(vectorstore_info=vectorstore_info)\n",
    "\n",
    "# Add the toolkit to an end-to-end LC\n",
    "agent_executor = create_vectorstore_agent(\n",
    "    llm=llm,\n",
    "    toolkit=toolkit,\n",
    "    verbose=True\n",
    ")"
   ]
  },
  {
   "cell_type": "code",
   "execution_count": null,
   "metadata": {},
   "outputs": [],
   "source": [
    "st.title('🦜🔗 GPT Investment Banker')\n",
    "# Create a text input box for the user\n",
    "prompt = st.text_input('Input your prompt here')\n",
    "\n",
    "# If the user hits enter\n",
    "if prompt:\n",
    "    # Then pass the prompt to the LLM\n",
    "    response = agent_executor.run(prompt)\n",
    "    # ...and write it out to the screen\n",
    "    st.write(response)\n",
    "\n",
    "    # With a streamlit expander  \n",
    "    with st.expander('Document Similarity Search'):\n",
    "        # Find the relevant pages\n",
    "        search = store.similarity_search_with_score(prompt) \n",
    "        # Write out the first \n",
    "        st.write(search[0][0].page_content) "
   ]
  },
  {
   "cell_type": "code",
   "execution_count": null,
   "metadata": {},
   "outputs": [],
   "source": []
  },
  {
   "cell_type": "code",
   "execution_count": null,
   "metadata": {},
   "outputs": [],
   "source": []
  }
 ],
 "metadata": {
  "kernelspec": {
   "display_name": "langchain",
   "language": "python",
   "name": "python3"
  },
  "language_info": {
   "codemirror_mode": {
    "name": "ipython",
    "version": 3
   },
   "file_extension": ".py",
   "mimetype": "text/x-python",
   "name": "python",
   "nbconvert_exporter": "python",
   "pygments_lexer": "ipython3",
   "version": "3.11.3"
  },
  "orig_nbformat": 4
 },
 "nbformat": 4,
 "nbformat_minor": 2
}
